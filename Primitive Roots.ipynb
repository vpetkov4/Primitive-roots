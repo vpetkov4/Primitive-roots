{
 "cells": [
  {
   "cell_type": "markdown",
   "metadata": {},
   "source": [
    "# This project finds the smallest primitive for all prime numbers less than N\n"
   ]
  },
  {
   "cell_type": "code",
   "execution_count": 14,
   "metadata": {},
   "outputs": [],
   "source": [
    "import math"
   ]
  },
  {
   "cell_type": "markdown",
   "metadata": {},
   "source": [
    "#Define a few usefull functions"
   ]
  },
  {
   "cell_type": "code",
   "execution_count": 15,
   "metadata": {},
   "outputs": [],
   "source": [
    "#Fast exponentiation modulo an integer using consecutive squaring\n",
    "#compute a**x mod n\n",
    "def pow_mod(a,x,n):\n",
    "    result=1\n",
    "    temp_a, temp_x = a, x#if we do not wish to modify a or x\n",
    "    while temp_x>0:\n",
    "        if temp_x%2!=0:\n",
    "            result=(result*temp_a) % n\n",
    "        temp_a=temp_a**2 % n   \n",
    "        temp_x=temp_x//2\n",
    "    return result"
   ]
  },
  {
   "cell_type": "code",
   "execution_count": 16,
   "metadata": {},
   "outputs": [],
   "source": [
    "#Finding the Greatest Common Divisor\n",
    "def gcd(a=1,b=1):\n",
    "    if a==0:\n",
    "        return b\n",
    "    g=gcd(b%a,a)\n",
    "    return g\n",
    "    \n",
    "    \n",
    "#Extended Euclidean Algorithm: provides both the greatest common divisor and the inverse modulo the other number\n",
    "def generalized_Euclidean(a=1,b=1):    \n",
    "    if a == 0:\n",
    "        return (b, 0, 1)\n",
    "    else:\n",
    "        (gcd, x, y) = generalized_Euclidean(b%a, a)\n",
    "        return (gcd, (y - int(b / a)*x), x)"
   ]
  },
  {
   "cell_type": "code",
   "execution_count": 17,
   "metadata": {},
   "outputs": [],
   "source": [
    "#Generate the prime numbers less than a given N using the Sieve of Eratosthenes\n",
    "def primes_by_Eratosthenes(N=1000000):\n",
    "    prime_list=[2,3]\n",
    "    i=5\n",
    "    while i<=N:\n",
    "        if i%2!=0 and 2%3!=0:\n",
    "            j=1\n",
    "            flag=True\n",
    "            sqrt_i=int(math.sqrt(i))\n",
    "            while prime_list[j]<=sqrt_i and flag:\n",
    "                if i% prime_list[j]==0:\n",
    "                    flag=False\n",
    "                    break\n",
    "                j+=1\n",
    "            if flag:\n",
    "                prime_list.append(i)\n",
    "        i+=1\n",
    "    return prime_list\n",
    "    \n",
    "primes=primes_by_Eratosthenes()"
   ]
  },
  {
   "cell_type": "code",
   "execution_count": 18,
   "metadata": {},
   "outputs": [],
   "source": [
    "#List the prime factors\n",
    "def prime_factors(n):\n",
    "    prime_factors=[]\n",
    "    for prime in primes:\n",
    "        if prime>n:\n",
    "            break\n",
    "        else:\n",
    "            if n%prime==0:\n",
    "                prime_factors.append(prime)\n",
    "                while n% prime==0:\n",
    "                    n=n/prime\n",
    "    return prime_factors"
   ]
  },
  {
   "cell_type": "code",
   "execution_count": 19,
   "metadata": {},
   "outputs": [],
   "source": [
    "#Generate the smallest primitive root modulo each prime number in the list of prime numbers\n",
    "#returns a dictionary with keys in the set of primes and values the smallest primitive root\n",
    "#We choose to store the values as a dictionary to be able to do a quick search in O(1) time\n",
    "def smallest_primitive(primes):\n",
    "    primitive_roots={}\n",
    "    for prime in primes:\n",
    "        g=1\n",
    "        factors=prime_factors(prime-1)\n",
    "        while g<=prime-1:\n",
    "            flag=True\n",
    "            for factor in factors:\n",
    "                if pow_mod(g, (prime - 1) / factor, prime) == 1:\n",
    "                    flag=False\n",
    "                    break\n",
    "            if flag:\n",
    "                primitive_roots[prime]=g\n",
    "                break\n",
    "            g+=1\n",
    "    return primitive_roots"
   ]
  },
  {
   "cell_type": "code",
   "execution_count": 20,
   "metadata": {},
   "outputs": [],
   "source": [
    "roots=smallest_primitive(primes)\n"
   ]
  },
  {
   "cell_type": "code",
   "execution_count": 29,
   "metadata": {},
   "outputs": [],
   "source": [
    "#If we want to transform the data of the roots into an array\n",
    "#or save it into a table\n",
    "import numpy as np\n",
    "import pandas as pd\n",
    "\n",
    "arr=np.array(list(roots.items()), dtype=np.int64)\n",
    "df=pd.DataFrame(arr,index=None,columns=[\"Prime Number\", \"Smallest Primitive Root\"])\n",
    "df.to_csv(\"datasets/List_of_primitive_roots.csv\", index=False)\n",
    "\n",
    "#Opening the list of primitive roots from a csv file\n",
    "df=pd.read_csv(\"datasets/List_of_primitive_roots.csv\")\n",
    "arr=df.to_numpy()\n",
    "primes=df[\"Prime Number\"].to_list()\n",
    "roots=dict(zip(df[\"Prime Number\"],df[\"Smallest Primitive Root\"]))"
   ]
  },
  {
   "cell_type": "code",
   "execution_count": 35,
   "metadata": {},
   "outputs": [
    {
     "data": {
      "image/png": "[encoded data removed]",
      "text/plain": [
       "<Figure size 432x288 with 1 Axes>"
      ]
     },
     "metadata": {
      "needs_background": "light"
     },
     "output_type": "display_data"
    },
    {
     "data": {
      "image/png": "[encoded data removed]",
      "text/plain": [
       "<Figure size 432x288 with 1 Axes>"
      ]
     },
     "metadata": {
      "needs_background": "light"
     },
     "output_type": "display_data"
    },
    {
     "data": {
      "image/png": "[encoded data removed]",
      "text/plain": [
       "<Figure size 432x288 with 1 Axes>"
      ]
     },
     "metadata": {
      "needs_background": "light"
     },
     "output_type": "display_data"
    }
   ],
   "source": [
    "#Visualizing some properties of the smallest primitive root\n",
    "import matplotlib.pyplot as plt\n",
    "\n",
    "#The first prime, for which g is the smallest primitive root\n",
    "first=df.groupby([\"Smallest Primitive Root\"]).min()\n",
    "first.rename(columns={\"Prime Number\": \"Smallest Prime Number\"},\n",
    "             inplace=True)\n",
    "#The frequences of the smallest primitive root\n",
    "frequences=df.groupby([\"Smallest Primitive Root\"]).count()\n",
    "frequences.rename(columns={\"Prime Number\": \"Frequency\"},\n",
    "                  inplace=True)\n",
    "\n",
    "info=first.merge(frequences, on=[\"Smallest Primitive Root\"])\n",
    "X=info.reset_index(level=0).to_numpy()\n",
    "\n",
    "#The frequences of the smallest primitive root\n",
    "freq=plt.hist(df[\"Smallest Primitive Root\"],bins=40, range=[1,25])\n",
    "plt.xlabel(\"Smallest Primitive Root\")\n",
    "plt.ylabel(\"Frequency\")\n",
    "plt.show()\n",
    "\n",
    "#Plot of the logarithm of the frequences of the smallest primitive root\n",
    "plot1=plt.scatter(X[:,0],np.log(X[:,2]),s=40,marker=\".\",color='b')\n",
    "plt.xlabel(\"Smallest Primitive Root\")\n",
    "plt.ylabel(\"Log-Frequency\")\n",
    "plt.show()\n",
    "\n",
    "#Plot of the first prime, for which g is the smallest primitive root\n",
    "plot2=plt.scatter(X[:,0],X[:,1],s=20,marker=\"x\",color='r')\n",
    "plt.xlabel(\"Smallest Primitive Root\")\n",
    "plt.ylabel(\"First prime\")\n",
    "plt.show()"
   ]
  },
  {
   "cell_type": "code",
   "execution_count": 28,
   "metadata": {},
   "outputs": [
    {
     "name": "stdout",
     "output_type": "stream",
     "text": [
      "3\n"
     ]
    }
   ],
   "source": []
  },
  {
   "cell_type": "code",
   "execution_count": null,
   "metadata": {},
   "outputs": [],
   "source": []
  }
 ],
 "metadata": {
  "kernelspec": {
   "display_name": "Python 3",
   "language": "python",
   "name": "python3"
  },
  "language_info": {
   "codemirror_mode": {
    "name": "ipython",
    "version": 3
   },
   "file_extension": ".py",
   "mimetype": "text/x-python",
   "name": "python",
   "nbconvert_exporter": "python",
   "pygments_lexer": "ipython3",
   "version": "3.7.6"
  }
 },
 "nbformat": 4,
 "nbformat_minor": 4
}
