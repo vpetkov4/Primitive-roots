{
 "cells": [
  {
   "cell_type": "markdown",
   "metadata": {},
   "source": [
    "# This project finds the smallest primitive for all prime numbers less than N\n"
   ]
  },
  {
   "cell_type": "code",
   "execution_count": 14,
   "metadata": {},
   "outputs": [],
   "source": [
    "import numpy as np\n",
    "import pandas as pd\n",
    "import math"
   ]
  },
  {
   "cell_type": "markdown",
   "metadata": {},
   "source": [
    "#Define a few usefull functions"
   ]
  },
  {
   "cell_type": "code",
   "execution_count": 15,
   "metadata": {},
   "outputs": [],
   "source": [
    "#Fast exponentiation modulo an integer using consecutive squaring\n",
    "#compute a**x mod n\n",
    "def pow_mod(a,x,n):\n",
    "    result=1\n",
    "    temp_a, temp_x = a, x#if we do not wish to modify a or x\n",
    "    while temp_x>0:\n",
    "        if temp_x%2!=0:\n",
    "            result=(result*temp_a) % n\n",
    "        temp_a=temp_a**2 % n   \n",
    "        temp_x=temp_x//2\n",
    "    return result"
   ]
  },
  {
   "cell_type": "code",
   "execution_count": 16,
   "metadata": {},
   "outputs": [],
   "source": [
    "#Finding the Greatest Common Divisor\n",
    "def gcd(a=1,b=1):\n",
    "    if a==0:\n",
    "        return b\n",
    "    g=gcd(b%a,a)\n",
    "    return g\n",
    "    \n",
    "    \n",
    "#Extended Euclidean Algorithm: provides both the greatest common divisor and the inverse modulo the other number\n",
    "def generalized_Euclidean(a=1,b=1):    \n",
    "    if a == 0:\n",
    "        return (b, 0, 1)\n",
    "    else:\n",
    "        (gcd, x, y) = generalized_Euclidean(b%a, a)\n",
    "        return (gcd, (y - int(b / a)*x), x)"
   ]
  },
  {
   "cell_type": "code",
   "execution_count": 17,
   "metadata": {},
   "outputs": [],
   "source": [
    "#Generate the prime numbers less than a given N using the Sieve of Eratosthenes\n",
    "def primes_by_Eratosthenes(N=1000000):\n",
    "    prime_list=[2,3]\n",
    "    i=5\n",
    "    while i<=N:\n",
    "        if i%2!=0 and 2%3!=0:\n",
    "            j=1\n",
    "            flag=True\n",
    "            sqrt_i=int(math.sqrt(i))\n",
    "            while prime_list[j]<=sqrt_i and flag:\n",
    "                if i% prime_list[j]==0:\n",
    "                    flag=False\n",
    "                    break\n",
    "                j+=1\n",
    "            if flag:\n",
    "                prime_list.append(i)\n",
    "        i+=1\n",
    "    return prime_list\n",
    "    \n",
    "primes=primes_by_Eratosthenes()"
   ]
  },
  {
   "cell_type": "code",
   "execution_count": 18,
   "metadata": {},
   "outputs": [],
   "source": [
    "#List the prime factors\n",
    "def prime_factors(n):\n",
    "    prime_factors=[]\n",
    "    for prime in primes:\n",
    "        if prime>n:\n",
    "            break\n",
    "        else:\n",
    "            if n%prime==0:\n",
    "                prime_factors.append(prime)\n",
    "                while n% prime==0:\n",
    "                    n=n/prime\n",
    "    return prime_factors"
   ]
  },
  {
   "cell_type": "code",
   "execution_count": 19,
   "metadata": {},
   "outputs": [],
   "source": [
    "#Generate the smallest primitive root modulo each prime number in the list of prime numbers\n",
    "#returns a dictionary with keys in the set of primes and values the smallest primitive root\n",
    "#We choose to store the values as a dictionary to be able to do a quick search in O(1) time\n",
    "def smallest_primitive(primes):\n",
    "    primitive_roots={}\n",
    "    for prime in primes:\n",
    "        g=1\n",
    "        factors=prime_factors(prime-1)\n",
    "        while g<=prime-1:\n",
    "            flag=True\n",
    "            for factor in factors:\n",
    "                if pow_mod(g, (prime - 1) / factor, prime) == 1:\n",
    "                    flag=False\n",
    "                    break\n",
    "            if flag:\n",
    "                primitive_roots[prime]=g\n",
    "                break\n",
    "            g+=1\n",
    "    return primitive_roots"
   ]
  },
  {
   "cell_type": "code",
   "execution_count": 20,
   "metadata": {},
   "outputs": [],
   "source": [
    "roots=smallest_primitive(primes)\n"
   ]
  },
  {
   "cell_type": "code",
   "execution_count": 22,
   "metadata": {},
   "outputs": [],
   "source": [
    "#If we want to transform the data of the roots into an array\n",
    "#or save it into a table\n",
    "arr=np.array(list(roots.items()), dtype=np.int64)\n",
    "df=pd.DataFrame(arr,index=None,columns=[\"Prime number\", \"Smallest Primitive Root\"])\n",
    "df.to_csv(\"datasets/List_of_primitive_roots.csv\", index=False)"
   ]
  },
  {
   "cell_type": "code",
   "execution_count": null,
   "metadata": {},
   "outputs": [],
   "source": []
  }
 ],
 "metadata": {
  "kernelspec": {
   "display_name": "Python 3",
   "language": "python",
   "name": "python3"
  },
  "language_info": {
   "codemirror_mode": {
    "name": "ipython",
    "version": 3
   },
   "file_extension": ".py",
   "mimetype": "text/x-python",
   "name": "python",
   "nbconvert_exporter": "python",
   "pygments_lexer": "ipython3",
   "version": "3.7.6"
  }
 },
 "nbformat": 4,
 "nbformat_minor": 4
}
